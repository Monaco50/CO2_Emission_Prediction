{
 "cells": [
  {
   "cell_type": "markdown",
   "metadata": {},
   "source": [
    "# <center> Projet4 : Anticipez les besoins en consommation électrique de bâtiments\n",
    "    \n",
    "    Notebook Modelisation"
   ]
  },
  {
   "cell_type": "markdown",
   "metadata": {},
   "source": [
    "# 1. Importation des modules et données"
   ]
  },
  {
   "cell_type": "code",
   "execution_count": 1,
   "metadata": {
    "id": "FCD85-OScpyd"
   },
   "outputs": [],
   "source": [
    "import pandas as pd \n",
    "import numpy as np \n",
    "import seaborn as sns\n",
    "import matplotlib.pyplot as plt\n",
    "from sklearn.svm import SVR\n",
    "from sklearn.ensemble import RandomForestRegressor\n",
    "from sklearn.linear_model import LinearRegression\n",
    "from sklearn.ensemble import GradientBoostingRegressor\n",
    "from sklearn.multioutput import MultiOutputRegressor\n",
    "from sklearn.linear_model import Ridge\n",
    "from sklearn.linear_model import Lasso"
   ]
  },
  {
   "cell_type": "code",
   "execution_count": 2,
   "metadata": {
    "id": "mCGhA1FoUxNq"
   },
   "outputs": [],
   "source": [
    "#dataset avant PCA \n",
    "dataset=pd.read_csv(\"C:\\\\Users\\Marwa\\Downloads\\projet4\\\\dataset_2016_Avant_PCA.csv\")\n",
    "dataset=dataset.drop(columns='Unnamed: 0', axis=1)"
   ]
  },
  {
   "cell_type": "code",
   "execution_count": 3,
   "metadata": {
    "id": "lfh4sVG1wrqA"
   },
   "outputs": [],
   "source": [
    "#dataset après PCA \n",
    "X_projected= pd.read_csv(\"C:\\\\Users\\Marwa\\Downloads\\projet4\\\\dataset_2016_PCA.csv\")\n",
    "X_projected= X_projected.drop(columns='Unnamed: 0', axis=1)"
   ]
  },
  {
   "cell_type": "code",
   "execution_count": 4,
   "metadata": {},
   "outputs": [
    {
     "data": {
      "text/html": [
       "<div>\n",
       "<style scoped>\n",
       "    .dataframe tbody tr th:only-of-type {\n",
       "        vertical-align: middle;\n",
       "    }\n",
       "\n",
       "    .dataframe tbody tr th {\n",
       "        vertical-align: top;\n",
       "    }\n",
       "\n",
       "    .dataframe thead th {\n",
       "        text-align: right;\n",
       "    }\n",
       "</style>\n",
       "<table border=\"1\" class=\"dataframe\">\n",
       "  <thead>\n",
       "    <tr style=\"text-align: right;\">\n",
       "      <th></th>\n",
       "      <th>NumberofBuildings</th>\n",
       "      <th>NumberofFloors</th>\n",
       "      <th>PropertyGFATotal</th>\n",
       "      <th>ENERGYSTARScore</th>\n",
       "      <th>SiteEnergyUse(kBtu)</th>\n",
       "      <th>SteamUse(kBtu)</th>\n",
       "      <th>Electricity(kBtu)</th>\n",
       "      <th>NaturalGas(kBtu)</th>\n",
       "      <th>TotalGHGEmissions</th>\n",
       "      <th>BuilAge</th>\n",
       "      <th>...</th>\n",
       "      <th>30</th>\n",
       "      <th>31</th>\n",
       "      <th>32</th>\n",
       "      <th>33</th>\n",
       "      <th>34</th>\n",
       "      <th>35</th>\n",
       "      <th>36</th>\n",
       "      <th>37</th>\n",
       "      <th>38</th>\n",
       "      <th>39</th>\n",
       "    </tr>\n",
       "  </thead>\n",
       "  <tbody>\n",
       "    <tr>\n",
       "      <th>count</th>\n",
       "      <td>1.668000e+03</td>\n",
       "      <td>1.668000e+03</td>\n",
       "      <td>1.668000e+03</td>\n",
       "      <td>1.668000e+03</td>\n",
       "      <td>1.668000e+03</td>\n",
       "      <td>1.668000e+03</td>\n",
       "      <td>1.668000e+03</td>\n",
       "      <td>1.668000e+03</td>\n",
       "      <td>1.668000e+03</td>\n",
       "      <td>1.668000e+03</td>\n",
       "      <td>...</td>\n",
       "      <td>1668.000000</td>\n",
       "      <td>1668.000000</td>\n",
       "      <td>1668.000000</td>\n",
       "      <td>1668.000000</td>\n",
       "      <td>1668.000000</td>\n",
       "      <td>1668.000000</td>\n",
       "      <td>1668.000000</td>\n",
       "      <td>1668.000000</td>\n",
       "      <td>1668.000000</td>\n",
       "      <td>1668.000000</td>\n",
       "    </tr>\n",
       "    <tr>\n",
       "      <th>mean</th>\n",
       "      <td>-5.597125e-16</td>\n",
       "      <td>-1.216653e-15</td>\n",
       "      <td>2.109956e-17</td>\n",
       "      <td>1.357827e-16</td>\n",
       "      <td>6.584461e-17</td>\n",
       "      <td>4.449711e-16</td>\n",
       "      <td>2.073348e-17</td>\n",
       "      <td>7.132417e-16</td>\n",
       "      <td>1.088092e-16</td>\n",
       "      <td>-7.062030e-17</td>\n",
       "      <td>...</td>\n",
       "      <td>0.118106</td>\n",
       "      <td>0.045564</td>\n",
       "      <td>0.007194</td>\n",
       "      <td>0.341727</td>\n",
       "      <td>0.058753</td>\n",
       "      <td>0.002998</td>\n",
       "      <td>0.000600</td>\n",
       "      <td>0.145683</td>\n",
       "      <td>0.126499</td>\n",
       "      <td>0.047362</td>\n",
       "    </tr>\n",
       "    <tr>\n",
       "      <th>std</th>\n",
       "      <td>1.000300e+00</td>\n",
       "      <td>1.000300e+00</td>\n",
       "      <td>1.000300e+00</td>\n",
       "      <td>1.000300e+00</td>\n",
       "      <td>1.000300e+00</td>\n",
       "      <td>1.000300e+00</td>\n",
       "      <td>1.000300e+00</td>\n",
       "      <td>1.000300e+00</td>\n",
       "      <td>1.000300e+00</td>\n",
       "      <td>1.000300e+00</td>\n",
       "      <td>...</td>\n",
       "      <td>0.322830</td>\n",
       "      <td>0.208599</td>\n",
       "      <td>0.084539</td>\n",
       "      <td>0.474431</td>\n",
       "      <td>0.235232</td>\n",
       "      <td>0.054685</td>\n",
       "      <td>0.024485</td>\n",
       "      <td>0.352894</td>\n",
       "      <td>0.332510</td>\n",
       "      <td>0.212476</td>\n",
       "    </tr>\n",
       "    <tr>\n",
       "      <th>min</th>\n",
       "      <td>-3.985135e-01</td>\n",
       "      <td>-6.280792e-01</td>\n",
       "      <td>-3.618146e-01</td>\n",
       "      <td>-2.589043e+00</td>\n",
       "      <td>-2.790439e-01</td>\n",
       "      <td>-9.293101e-02</td>\n",
       "      <td>-2.865598e-01</td>\n",
       "      <td>-2.104372e-01</td>\n",
       "      <td>-2.471150e-01</td>\n",
       "      <td>-1.621851e+00</td>\n",
       "      <td>...</td>\n",
       "      <td>0.000000</td>\n",
       "      <td>0.000000</td>\n",
       "      <td>0.000000</td>\n",
       "      <td>0.000000</td>\n",
       "      <td>0.000000</td>\n",
       "      <td>0.000000</td>\n",
       "      <td>0.000000</td>\n",
       "      <td>0.000000</td>\n",
       "      <td>0.000000</td>\n",
       "      <td>0.000000</td>\n",
       "    </tr>\n",
       "    <tr>\n",
       "      <th>25%</th>\n",
       "      <td>-5.710594e-02</td>\n",
       "      <td>-4.756736e-01</td>\n",
       "      <td>-3.006158e-01</td>\n",
       "      <td>-5.862142e-01</td>\n",
       "      <td>-2.382841e-01</td>\n",
       "      <td>-9.293101e-02</td>\n",
       "      <td>-2.463150e-01</td>\n",
       "      <td>-2.104372e-01</td>\n",
       "      <td>-2.193734e-01</td>\n",
       "      <td>-8.275199e-01</td>\n",
       "      <td>...</td>\n",
       "      <td>0.000000</td>\n",
       "      <td>0.000000</td>\n",
       "      <td>0.000000</td>\n",
       "      <td>0.000000</td>\n",
       "      <td>0.000000</td>\n",
       "      <td>0.000000</td>\n",
       "      <td>0.000000</td>\n",
       "      <td>0.000000</td>\n",
       "      <td>0.000000</td>\n",
       "      <td>0.000000</td>\n",
       "    </tr>\n",
       "    <tr>\n",
       "      <th>50%</th>\n",
       "      <td>-5.710594e-02</td>\n",
       "      <td>-3.232680e-01</td>\n",
       "      <td>-2.339708e-01</td>\n",
       "      <td>1.828722e-01</td>\n",
       "      <td>-1.944911e-01</td>\n",
       "      <td>-9.293101e-02</td>\n",
       "      <td>-2.034307e-01</td>\n",
       "      <td>-1.568574e-01</td>\n",
       "      <td>-1.800587e-01</td>\n",
       "      <td>-9.429111e-02</td>\n",
       "      <td>...</td>\n",
       "      <td>0.000000</td>\n",
       "      <td>0.000000</td>\n",
       "      <td>0.000000</td>\n",
       "      <td>0.000000</td>\n",
       "      <td>0.000000</td>\n",
       "      <td>0.000000</td>\n",
       "      <td>0.000000</td>\n",
       "      <td>0.000000</td>\n",
       "      <td>0.000000</td>\n",
       "      <td>0.000000</td>\n",
       "    </tr>\n",
       "    <tr>\n",
       "      <th>75%</th>\n",
       "      <td>-5.710594e-02</td>\n",
       "      <td>-1.845679e-02</td>\n",
       "      <td>-4.547242e-02</td>\n",
       "      <td>7.757097e-01</td>\n",
       "      <td>-5.051539e-02</td>\n",
       "      <td>-9.293101e-02</td>\n",
       "      <td>-4.842372e-02</td>\n",
       "      <td>-4.781619e-02</td>\n",
       "      <td>-5.655742e-02</td>\n",
       "      <td>9.750009e-01</td>\n",
       "      <td>...</td>\n",
       "      <td>0.000000</td>\n",
       "      <td>0.000000</td>\n",
       "      <td>0.000000</td>\n",
       "      <td>1.000000</td>\n",
       "      <td>0.000000</td>\n",
       "      <td>0.000000</td>\n",
       "      <td>0.000000</td>\n",
       "      <td>0.000000</td>\n",
       "      <td>0.000000</td>\n",
       "      <td>0.000000</td>\n",
       "    </tr>\n",
       "    <tr>\n",
       "      <th>max</th>\n",
       "      <td>3.749773e+01</td>\n",
       "      <td>1.446007e+01</td>\n",
       "      <td>3.095240e+01</td>\n",
       "      <td>1.376558e+00</td>\n",
       "      <td>2.864238e+01</td>\n",
       "      <td>2.440211e+01</td>\n",
       "      <td>3.134179e+01</td>\n",
       "      <td>3.160919e+01</td>\n",
       "      <td>2.220942e+01</td>\n",
       "      <td>1.891537e+00</td>\n",
       "      <td>...</td>\n",
       "      <td>1.000000</td>\n",
       "      <td>1.000000</td>\n",
       "      <td>1.000000</td>\n",
       "      <td>1.000000</td>\n",
       "      <td>1.000000</td>\n",
       "      <td>1.000000</td>\n",
       "      <td>1.000000</td>\n",
       "      <td>1.000000</td>\n",
       "      <td>1.000000</td>\n",
       "      <td>1.000000</td>\n",
       "    </tr>\n",
       "  </tbody>\n",
       "</table>\n",
       "<p>8 rows × 50 columns</p>\n",
       "</div>"
      ],
      "text/plain": [
       "       NumberofBuildings  NumberofFloors  PropertyGFATotal  ENERGYSTARScore  \\\n",
       "count       1.668000e+03    1.668000e+03      1.668000e+03     1.668000e+03   \n",
       "mean       -5.597125e-16   -1.216653e-15      2.109956e-17     1.357827e-16   \n",
       "std         1.000300e+00    1.000300e+00      1.000300e+00     1.000300e+00   \n",
       "min        -3.985135e-01   -6.280792e-01     -3.618146e-01    -2.589043e+00   \n",
       "25%        -5.710594e-02   -4.756736e-01     -3.006158e-01    -5.862142e-01   \n",
       "50%        -5.710594e-02   -3.232680e-01     -2.339708e-01     1.828722e-01   \n",
       "75%        -5.710594e-02   -1.845679e-02     -4.547242e-02     7.757097e-01   \n",
       "max         3.749773e+01    1.446007e+01      3.095240e+01     1.376558e+00   \n",
       "\n",
       "       SiteEnergyUse(kBtu)  SteamUse(kBtu)  Electricity(kBtu)  \\\n",
       "count         1.668000e+03    1.668000e+03       1.668000e+03   \n",
       "mean          6.584461e-17    4.449711e-16       2.073348e-17   \n",
       "std           1.000300e+00    1.000300e+00       1.000300e+00   \n",
       "min          -2.790439e-01   -9.293101e-02      -2.865598e-01   \n",
       "25%          -2.382841e-01   -9.293101e-02      -2.463150e-01   \n",
       "50%          -1.944911e-01   -9.293101e-02      -2.034307e-01   \n",
       "75%          -5.051539e-02   -9.293101e-02      -4.842372e-02   \n",
       "max           2.864238e+01    2.440211e+01       3.134179e+01   \n",
       "\n",
       "       NaturalGas(kBtu)  TotalGHGEmissions       BuilAge  ...           30  \\\n",
       "count      1.668000e+03       1.668000e+03  1.668000e+03  ...  1668.000000   \n",
       "mean       7.132417e-16       1.088092e-16 -7.062030e-17  ...     0.118106   \n",
       "std        1.000300e+00       1.000300e+00  1.000300e+00  ...     0.322830   \n",
       "min       -2.104372e-01      -2.471150e-01 -1.621851e+00  ...     0.000000   \n",
       "25%       -2.104372e-01      -2.193734e-01 -8.275199e-01  ...     0.000000   \n",
       "50%       -1.568574e-01      -1.800587e-01 -9.429111e-02  ...     0.000000   \n",
       "75%       -4.781619e-02      -5.655742e-02  9.750009e-01  ...     0.000000   \n",
       "max        3.160919e+01       2.220942e+01  1.891537e+00  ...     1.000000   \n",
       "\n",
       "                31           32           33           34           35  \\\n",
       "count  1668.000000  1668.000000  1668.000000  1668.000000  1668.000000   \n",
       "mean      0.045564     0.007194     0.341727     0.058753     0.002998   \n",
       "std       0.208599     0.084539     0.474431     0.235232     0.054685   \n",
       "min       0.000000     0.000000     0.000000     0.000000     0.000000   \n",
       "25%       0.000000     0.000000     0.000000     0.000000     0.000000   \n",
       "50%       0.000000     0.000000     0.000000     0.000000     0.000000   \n",
       "75%       0.000000     0.000000     1.000000     0.000000     0.000000   \n",
       "max       1.000000     1.000000     1.000000     1.000000     1.000000   \n",
       "\n",
       "                36           37           38           39  \n",
       "count  1668.000000  1668.000000  1668.000000  1668.000000  \n",
       "mean      0.000600     0.145683     0.126499     0.047362  \n",
       "std       0.024485     0.352894     0.332510     0.212476  \n",
       "min       0.000000     0.000000     0.000000     0.000000  \n",
       "25%       0.000000     0.000000     0.000000     0.000000  \n",
       "50%       0.000000     0.000000     0.000000     0.000000  \n",
       "75%       0.000000     0.000000     0.000000     0.000000  \n",
       "max       1.000000     1.000000     1.000000     1.000000  \n",
       "\n",
       "[8 rows x 50 columns]"
      ]
     },
     "execution_count": 4,
     "metadata": {},
     "output_type": "execute_result"
    }
   ],
   "source": [
    "dataset.describe()"
   ]
  },
  {
   "cell_type": "code",
   "execution_count": 5,
   "metadata": {},
   "outputs": [
    {
     "data": {
      "text/html": [
       "<div>\n",
       "<style scoped>\n",
       "    .dataframe tbody tr th:only-of-type {\n",
       "        vertical-align: middle;\n",
       "    }\n",
       "\n",
       "    .dataframe tbody tr th {\n",
       "        vertical-align: top;\n",
       "    }\n",
       "\n",
       "    .dataframe thead th {\n",
       "        text-align: right;\n",
       "    }\n",
       "</style>\n",
       "<table border=\"1\" class=\"dataframe\">\n",
       "  <thead>\n",
       "    <tr style=\"text-align: right;\">\n",
       "      <th></th>\n",
       "      <th>PC1</th>\n",
       "      <th>PC2</th>\n",
       "      <th>PC3</th>\n",
       "      <th>PC4</th>\n",
       "      <th>PC5</th>\n",
       "      <th>PC6</th>\n",
       "      <th>PC7</th>\n",
       "      <th>PC8</th>\n",
       "      <th>PC9</th>\n",
       "      <th>PC10</th>\n",
       "      <th>...</th>\n",
       "      <th>PC17</th>\n",
       "      <th>PC18</th>\n",
       "      <th>PC19</th>\n",
       "      <th>PC20</th>\n",
       "      <th>PC21</th>\n",
       "      <th>PC22</th>\n",
       "      <th>PC23</th>\n",
       "      <th>PC24</th>\n",
       "      <th>PC25</th>\n",
       "      <th>PC26</th>\n",
       "    </tr>\n",
       "  </thead>\n",
       "  <tbody>\n",
       "    <tr>\n",
       "      <th>count</th>\n",
       "      <td>1.668000e+03</td>\n",
       "      <td>1.668000e+03</td>\n",
       "      <td>1.668000e+03</td>\n",
       "      <td>1.668000e+03</td>\n",
       "      <td>1.668000e+03</td>\n",
       "      <td>1.668000e+03</td>\n",
       "      <td>1.668000e+03</td>\n",
       "      <td>1.668000e+03</td>\n",
       "      <td>1.668000e+03</td>\n",
       "      <td>1.668000e+03</td>\n",
       "      <td>...</td>\n",
       "      <td>1.668000e+03</td>\n",
       "      <td>1.668000e+03</td>\n",
       "      <td>1.668000e+03</td>\n",
       "      <td>1.668000e+03</td>\n",
       "      <td>1.668000e+03</td>\n",
       "      <td>1.668000e+03</td>\n",
       "      <td>1.668000e+03</td>\n",
       "      <td>1.668000e+03</td>\n",
       "      <td>1.668000e+03</td>\n",
       "      <td>1.668000e+03</td>\n",
       "    </tr>\n",
       "    <tr>\n",
       "      <th>mean</th>\n",
       "      <td>-1.716586e-16</td>\n",
       "      <td>-1.088258e-16</td>\n",
       "      <td>-1.159478e-16</td>\n",
       "      <td>-2.570053e-17</td>\n",
       "      <td>1.494275e-16</td>\n",
       "      <td>-1.547523e-17</td>\n",
       "      <td>8.978962e-17</td>\n",
       "      <td>3.325511e-17</td>\n",
       "      <td>1.464323e-17</td>\n",
       "      <td>-4.425417e-17</td>\n",
       "      <td>...</td>\n",
       "      <td>1.938564e-17</td>\n",
       "      <td>-2.828806e-17</td>\n",
       "      <td>-2.575877e-17</td>\n",
       "      <td>1.118210e-17</td>\n",
       "      <td>5.657611e-19</td>\n",
       "      <td>2.001380e-17</td>\n",
       "      <td>1.269635e-17</td>\n",
       "      <td>2.288005e-17</td>\n",
       "      <td>-7.263375e-18</td>\n",
       "      <td>5.033610e-18</td>\n",
       "    </tr>\n",
       "    <tr>\n",
       "      <th>std</th>\n",
       "      <td>2.150618e+00</td>\n",
       "      <td>1.192456e+00</td>\n",
       "      <td>1.095169e+00</td>\n",
       "      <td>1.008963e+00</td>\n",
       "      <td>9.432572e-01</td>\n",
       "      <td>8.720552e-01</td>\n",
       "      <td>6.473609e-01</td>\n",
       "      <td>5.548042e-01</td>\n",
       "      <td>5.219260e-01</td>\n",
       "      <td>4.661865e-01</td>\n",
       "      <td>...</td>\n",
       "      <td>2.994197e-01</td>\n",
       "      <td>2.914129e-01</td>\n",
       "      <td>2.774174e-01</td>\n",
       "      <td>2.667236e-01</td>\n",
       "      <td>2.515667e-01</td>\n",
       "      <td>2.455791e-01</td>\n",
       "      <td>2.193677e-01</td>\n",
       "      <td>2.103894e-01</td>\n",
       "      <td>2.024031e-01</td>\n",
       "      <td>1.956038e-01</td>\n",
       "    </tr>\n",
       "    <tr>\n",
       "      <th>min</th>\n",
       "      <td>-7.854947e-01</td>\n",
       "      <td>-1.236659e+01</td>\n",
       "      <td>-1.470610e+01</td>\n",
       "      <td>-6.427753e+00</td>\n",
       "      <td>-5.115310e+00</td>\n",
       "      <td>-1.094897e+01</td>\n",
       "      <td>-1.618542e+00</td>\n",
       "      <td>-1.552884e+00</td>\n",
       "      <td>-1.155431e+00</td>\n",
       "      <td>-8.720969e-01</td>\n",
       "      <td>...</td>\n",
       "      <td>-8.099647e-01</td>\n",
       "      <td>-8.964603e-01</td>\n",
       "      <td>-8.045525e-01</td>\n",
       "      <td>-6.334686e-01</td>\n",
       "      <td>-9.766790e-01</td>\n",
       "      <td>-8.901675e-01</td>\n",
       "      <td>-6.372951e-01</td>\n",
       "      <td>-5.501942e-01</td>\n",
       "      <td>-7.849304e-01</td>\n",
       "      <td>-5.858147e-01</td>\n",
       "    </tr>\n",
       "    <tr>\n",
       "      <th>25%</th>\n",
       "      <td>-5.500235e-01</td>\n",
       "      <td>-3.739039e-01</td>\n",
       "      <td>-3.352460e-01</td>\n",
       "      <td>-7.042369e-01</td>\n",
       "      <td>-5.814350e-01</td>\n",
       "      <td>-1.362340e-01</td>\n",
       "      <td>-6.608493e-01</td>\n",
       "      <td>-2.400651e-01</td>\n",
       "      <td>-2.563509e-01</td>\n",
       "      <td>-2.812543e-01</td>\n",
       "      <td>...</td>\n",
       "      <td>-1.394230e-01</td>\n",
       "      <td>-1.490813e-01</td>\n",
       "      <td>-1.904306e-01</td>\n",
       "      <td>-1.318828e-01</td>\n",
       "      <td>-9.091247e-02</td>\n",
       "      <td>-1.129146e-01</td>\n",
       "      <td>-1.029070e-01</td>\n",
       "      <td>-1.036773e-01</td>\n",
       "      <td>-7.592201e-02</td>\n",
       "      <td>-6.103928e-02</td>\n",
       "    </tr>\n",
       "    <tr>\n",
       "      <th>50%</th>\n",
       "      <td>-4.196111e-01</td>\n",
       "      <td>-2.758912e-03</td>\n",
       "      <td>2.013841e-01</td>\n",
       "      <td>-1.186826e-01</td>\n",
       "      <td>7.776466e-02</td>\n",
       "      <td>-1.577466e-02</td>\n",
       "      <td>2.907540e-01</td>\n",
       "      <td>2.407013e-02</td>\n",
       "      <td>-2.158630e-02</td>\n",
       "      <td>-3.282592e-02</td>\n",
       "      <td>...</td>\n",
       "      <td>-6.159159e-02</td>\n",
       "      <td>-1.419199e-02</td>\n",
       "      <td>2.317331e-02</td>\n",
       "      <td>-4.558046e-02</td>\n",
       "      <td>5.103418e-03</td>\n",
       "      <td>-2.505448e-02</td>\n",
       "      <td>-3.761748e-02</td>\n",
       "      <td>-3.071925e-02</td>\n",
       "      <td>-1.068129e-02</td>\n",
       "      <td>-9.023995e-03</td>\n",
       "    </tr>\n",
       "    <tr>\n",
       "      <th>75%</th>\n",
       "      <td>-8.049102e-02</td>\n",
       "      <td>4.342821e-01</td>\n",
       "      <td>5.381532e-01</td>\n",
       "      <td>6.586106e-01</td>\n",
       "      <td>6.980938e-01</td>\n",
       "      <td>1.077167e-01</td>\n",
       "      <td>4.331300e-01</td>\n",
       "      <td>2.877682e-01</td>\n",
       "      <td>1.979701e-01</td>\n",
       "      <td>1.113536e-01</td>\n",
       "      <td>...</td>\n",
       "      <td>3.396657e-02</td>\n",
       "      <td>1.634943e-01</td>\n",
       "      <td>1.118825e-01</td>\n",
       "      <td>7.441932e-02</td>\n",
       "      <td>8.954371e-02</td>\n",
       "      <td>9.053783e-02</td>\n",
       "      <td>3.184074e-02</td>\n",
       "      <td>4.944368e-02</td>\n",
       "      <td>6.600046e-02</td>\n",
       "      <td>4.129869e-02</td>\n",
       "    </tr>\n",
       "    <tr>\n",
       "      <th>max</th>\n",
       "      <td>6.265255e+01</td>\n",
       "      <td>2.640173e+01</td>\n",
       "      <td>1.945749e+01</td>\n",
       "      <td>1.115043e+01</td>\n",
       "      <td>5.761926e+00</td>\n",
       "      <td>1.984135e+01</td>\n",
       "      <td>4.980072e+00</td>\n",
       "      <td>1.701577e+00</td>\n",
       "      <td>1.242222e+00</td>\n",
       "      <td>1.820951e+00</td>\n",
       "      <td>...</td>\n",
       "      <td>1.441116e+00</td>\n",
       "      <td>9.613380e-01</td>\n",
       "      <td>1.005367e+00</td>\n",
       "      <td>1.082319e+00</td>\n",
       "      <td>1.131059e+00</td>\n",
       "      <td>1.003345e+00</td>\n",
       "      <td>1.090655e+00</td>\n",
       "      <td>9.808847e-01</td>\n",
       "      <td>9.398654e-01</td>\n",
       "      <td>1.090430e+00</td>\n",
       "    </tr>\n",
       "  </tbody>\n",
       "</table>\n",
       "<p>8 rows × 26 columns</p>\n",
       "</div>"
      ],
      "text/plain": [
       "                PC1           PC2           PC3           PC4           PC5  \\\n",
       "count  1.668000e+03  1.668000e+03  1.668000e+03  1.668000e+03  1.668000e+03   \n",
       "mean  -1.716586e-16 -1.088258e-16 -1.159478e-16 -2.570053e-17  1.494275e-16   \n",
       "std    2.150618e+00  1.192456e+00  1.095169e+00  1.008963e+00  9.432572e-01   \n",
       "min   -7.854947e-01 -1.236659e+01 -1.470610e+01 -6.427753e+00 -5.115310e+00   \n",
       "25%   -5.500235e-01 -3.739039e-01 -3.352460e-01 -7.042369e-01 -5.814350e-01   \n",
       "50%   -4.196111e-01 -2.758912e-03  2.013841e-01 -1.186826e-01  7.776466e-02   \n",
       "75%   -8.049102e-02  4.342821e-01  5.381532e-01  6.586106e-01  6.980938e-01   \n",
       "max    6.265255e+01  2.640173e+01  1.945749e+01  1.115043e+01  5.761926e+00   \n",
       "\n",
       "                PC6           PC7           PC8           PC9          PC10  \\\n",
       "count  1.668000e+03  1.668000e+03  1.668000e+03  1.668000e+03  1.668000e+03   \n",
       "mean  -1.547523e-17  8.978962e-17  3.325511e-17  1.464323e-17 -4.425417e-17   \n",
       "std    8.720552e-01  6.473609e-01  5.548042e-01  5.219260e-01  4.661865e-01   \n",
       "min   -1.094897e+01 -1.618542e+00 -1.552884e+00 -1.155431e+00 -8.720969e-01   \n",
       "25%   -1.362340e-01 -6.608493e-01 -2.400651e-01 -2.563509e-01 -2.812543e-01   \n",
       "50%   -1.577466e-02  2.907540e-01  2.407013e-02 -2.158630e-02 -3.282592e-02   \n",
       "75%    1.077167e-01  4.331300e-01  2.877682e-01  1.979701e-01  1.113536e-01   \n",
       "max    1.984135e+01  4.980072e+00  1.701577e+00  1.242222e+00  1.820951e+00   \n",
       "\n",
       "       ...          PC17          PC18          PC19          PC20  \\\n",
       "count  ...  1.668000e+03  1.668000e+03  1.668000e+03  1.668000e+03   \n",
       "mean   ...  1.938564e-17 -2.828806e-17 -2.575877e-17  1.118210e-17   \n",
       "std    ...  2.994197e-01  2.914129e-01  2.774174e-01  2.667236e-01   \n",
       "min    ... -8.099647e-01 -8.964603e-01 -8.045525e-01 -6.334686e-01   \n",
       "25%    ... -1.394230e-01 -1.490813e-01 -1.904306e-01 -1.318828e-01   \n",
       "50%    ... -6.159159e-02 -1.419199e-02  2.317331e-02 -4.558046e-02   \n",
       "75%    ...  3.396657e-02  1.634943e-01  1.118825e-01  7.441932e-02   \n",
       "max    ...  1.441116e+00  9.613380e-01  1.005367e+00  1.082319e+00   \n",
       "\n",
       "               PC21          PC22          PC23          PC24          PC25  \\\n",
       "count  1.668000e+03  1.668000e+03  1.668000e+03  1.668000e+03  1.668000e+03   \n",
       "mean   5.657611e-19  2.001380e-17  1.269635e-17  2.288005e-17 -7.263375e-18   \n",
       "std    2.515667e-01  2.455791e-01  2.193677e-01  2.103894e-01  2.024031e-01   \n",
       "min   -9.766790e-01 -8.901675e-01 -6.372951e-01 -5.501942e-01 -7.849304e-01   \n",
       "25%   -9.091247e-02 -1.129146e-01 -1.029070e-01 -1.036773e-01 -7.592201e-02   \n",
       "50%    5.103418e-03 -2.505448e-02 -3.761748e-02 -3.071925e-02 -1.068129e-02   \n",
       "75%    8.954371e-02  9.053783e-02  3.184074e-02  4.944368e-02  6.600046e-02   \n",
       "max    1.131059e+00  1.003345e+00  1.090655e+00  9.808847e-01  9.398654e-01   \n",
       "\n",
       "               PC26  \n",
       "count  1.668000e+03  \n",
       "mean   5.033610e-18  \n",
       "std    1.956038e-01  \n",
       "min   -5.858147e-01  \n",
       "25%   -6.103928e-02  \n",
       "50%   -9.023995e-03  \n",
       "75%    4.129869e-02  \n",
       "max    1.090430e+00  \n",
       "\n",
       "[8 rows x 26 columns]"
      ]
     },
     "execution_count": 5,
     "metadata": {},
     "output_type": "execute_result"
    }
   ],
   "source": [
    "X_projected.describe()"
   ]
  },
  {
   "cell_type": "markdown",
   "metadata": {
    "id": "Get8cOMtoIYC"
   },
   "source": [
    "# 2. Séparation des données"
   ]
  },
  {
   "cell_type": "markdown",
   "metadata": {},
   "source": [
    "Afin de tester notre meilleur modèle sur les données, nous allons mettre de côté une partie des données initiales qui ne seront pas inclusent dans les modèles intermédiaires. Nous allons donc spliter nos données pour obtenir un jeu d'entrainement et un jeu de test."
   ]
  },
  {
   "cell_type": "markdown",
   "metadata": {
    "id": "C1Ex1Pg7N08L"
   },
   "source": [
    "- train_test_split(): le dataset est mélangé de façon aléatoire avant d'étre divisé én deux parties. \n",
    "\n",
    "Nous pouvons contoler l'aléatoire en fixant l'argumant random_state=n \n",
    "- random_state\n",
    "si nous ne spécifions pas random_state dans le code, une nouvelle valeur aléatoire est générée et les ensembles de données d'apprentissage et de test auraient des valeurs différents à chaque fois. \n",
    "\n",
    "Si fixer: peu importe le nombre defois que vous exécutez votre code, le résultat sera le même. "
   ]
  },
  {
   "cell_type": "markdown",
   "metadata": {
    "id": "ApBe1CSbc93h"
   },
   "source": [
    "**Description des données cibles :**\n",
    "\n",
    "- TotalGHGEmissions: émissions de CO2 \n",
    "- SiteEnergyUse(kBtu): est la consommation d'énergie du site d'une propriété divisée par sa surface de plancher brute"
   ]
  },
  {
   "cell_type": "code",
   "execution_count": 6,
   "metadata": {
    "id": "95w6OPfYc8AQ"
   },
   "outputs": [],
   "source": [
    "from sklearn.model_selection import train_test_split\n",
    "def separation(dataset,  test_size):\n",
    "    y= dataset[['TotalGHGEmissions','SiteEnergyUse(kBtu)']]\n",
    "    data= dataset.drop(columns=y, axis=1)\n",
    "    X_train, X_test, y_train, y_test = train_test_split(data, y, test_size=test_size, random_state=42)\n",
    "    print(\"taille des données d'apprentissage\", X_train.shape)\n",
    "    print(\"taille des cibles d'apprentissage\", y_train.shape)\n",
    "    print(\"taille des données de test\", X_test.shape)\n",
    "    print(\"taille des cibles de test\", y_test.shape)\n",
    "    return X_train, X_test, y_train, np.array(y_test)"
   ]
  },
  {
   "cell_type": "code",
   "execution_count": 7,
   "metadata": {
    "colab": {
     "base_uri": "https://localhost:8080/"
    },
    "id": "5WETp267_7dq",
    "outputId": "f3cfbdce-da76-4bf7-d97b-042041c5eedb"
   },
   "outputs": [
    {
     "name": "stdout",
     "output_type": "stream",
     "text": [
      "taille des données d'apprentissage (1334, 48)\n",
      "taille des cibles d'apprentissage (1334, 2)\n",
      "taille des données de test (334, 48)\n",
      "taille des cibles de test (334, 2)\n"
     ]
    }
   ],
   "source": [
    "X_train, X_test, y_train, y_test= separation(dataset,0.2)"
   ]
  },
  {
   "cell_type": "markdown",
   "metadata": {
    "id": "X51zkFtIi7Tr"
   },
   "source": [
    "# 3. Modélisation"
   ]
  },
  {
   "cell_type": "markdown",
   "metadata": {
    "id": "rXs_k5wMsLlZ"
   },
   "source": [
    "Nous allons choisir de calculer trois métriques pour évaluer nos modèles : **MAE, RMSE et R2** \n",
    "\n",
    "- MAE : Mean Absolute Error.\n",
    "- RMSE : Root Mean Squared Error.\n",
    "- R² : Coefficient de détermination, carré du coeffiscient de corrélation linéaire."
   ]
  },
  {
   "cell_type": "code",
   "execution_count": 8,
   "metadata": {
    "id": "r6ppFwPKVp1v"
   },
   "outputs": [],
   "source": [
    "from sklearn.metrics import r2_score,mean_absolute_error, mean_squared_error\n",
    "#model metrics \n",
    "def initialiser():\n",
    "  models= pd.DataFrame(\n",
    "        data=['R2','MAE','RMSE'],\n",
    "        columns=['Model']\n",
    "        ).set_index(keys='Model')\n",
    "  return models\n",
    "def add_model(model, model_name, y_test, y_pred):\n",
    "     model[model_name] = np.array(\n",
    "            object=[\n",
    "                r2_score(y_test, y_pred), # R2\n",
    "                mean_absolute_error(y_test, y_pred),#MAE\n",
    "                np.sqrt(mean_squared_error(y_test, y_pred)) #RMSE      \n",
    "         ]\n",
    "        )\n",
    "     return model\n",
    "#plot model results \n",
    "def plot (model, title): \n",
    "   model.plot(marker='o')\n",
    "   plt.xticks(range(len(model)), model.index)\n",
    "   plt.xlabel('')\n",
    "   plt.title(title)\n",
    "   plt.axis('auto')\n",
    "   plt.show()"
   ]
  },
  {
   "cell_type": "markdown",
   "metadata": {
    "id": "wz9040JGrMEj"
   },
   "source": [
    "## 3.1 Modèles de prédiction de émissions de CO2"
   ]
  },
  {
   "cell_type": "markdown",
   "metadata": {
    "id": "NLa0dXpxeDF5"
   },
   "source": [
    "A ce stade, nous avons à notre disposition un jeu d'entrainement et un jeu de test pour nos prédictions **des émissions de CO2**. \n",
    "\n",
    "Comme dans toute approche de modélisation, nous allons devoir vérifier que notre modèle est réellement performant. La régression linéaire étant un modèle relativement simple, nous allons l'utiliser comme une baseline. "
   ]
  },
  {
   "cell_type": "markdown",
   "metadata": {},
   "source": [
    "### 3.1.1 Optimisation des hyperparamètres"
   ]
  },
  {
   "cell_type": "markdown",
   "metadata": {
    "id": "PJ252GCHRnXi"
   },
   "source": [
    "On doit choisir le meilleur modèle pour notre problème celui qui nous offre les meilleures performances\n",
    "\n",
    "Il faut, donc, définir une grille de paramètres en validation croisée."
   ]
  },
  {
   "cell_type": "code",
   "execution_count": 9,
   "metadata": {
    "colab": {
     "base_uri": "https://localhost:8080/",
     "height": 1000
    },
    "id": "SG2QxvyeSOvJ",
    "outputId": "b23deded-0c4f-4125-e714-41e5178eeb03"
   },
   "outputs": [
    {
     "data": {
      "text/html": [
       "<div>\n",
       "<style scoped>\n",
       "    .dataframe tbody tr th:only-of-type {\n",
       "        vertical-align: middle;\n",
       "    }\n",
       "\n",
       "    .dataframe tbody tr th {\n",
       "        vertical-align: top;\n",
       "    }\n",
       "\n",
       "    .dataframe thead th {\n",
       "        text-align: right;\n",
       "    }\n",
       "</style>\n",
       "<table border=\"1\" class=\"dataframe\">\n",
       "  <thead>\n",
       "    <tr style=\"text-align: right;\">\n",
       "      <th></th>\n",
       "      <th>linear Regression</th>\n",
       "    </tr>\n",
       "    <tr>\n",
       "      <th>Model</th>\n",
       "      <th></th>\n",
       "    </tr>\n",
       "  </thead>\n",
       "  <tbody>\n",
       "    <tr>\n",
       "      <th>R2</th>\n",
       "      <td>1.000000</td>\n",
       "    </tr>\n",
       "    <tr>\n",
       "      <th>MAE</th>\n",
       "      <td>0.000003</td>\n",
       "    </tr>\n",
       "    <tr>\n",
       "      <th>RMSE</th>\n",
       "      <td>0.000004</td>\n",
       "    </tr>\n",
       "  </tbody>\n",
       "</table>\n",
       "</div>"
      ],
      "text/plain": [
       "       linear Regression\n",
       "Model                   \n",
       "R2              1.000000\n",
       "MAE             0.000003\n",
       "RMSE            0.000004"
      ]
     },
     "execution_count": 9,
     "metadata": {},
     "output_type": "execute_result"
    }
   ],
   "source": [
    "from sklearn.model_selection import GridSearchCV\n",
    "params= {'fit_intercept': [True, False],\n",
    "                      'normalize': [True, False]}\n",
    "\n",
    "GS = GridSearchCV(LinearRegression(), param_grid=params, cv=5, scoring='neg_mean_absolute_error')\n",
    "GS.fit(X_train, y_train['TotalGHGEmissions'])\n",
    "model_scores=[]\n",
    "model_scores.append(\n",
    "      {\n",
    "      'model':'LinearRegression',\n",
    "      'best_score': GS.best_score_,\n",
    "      'best_param':GS.best_params_,\n",
    "       })\n",
    "lr= GS.best_estimator_\n",
    "y_pred= lr.predict(X_test)\n",
    "##\n",
    "model1= initialiser()\n",
    "add_model(model1, 'linear Regression', y_test[:, 0], y_pred)"
   ]
  },
  {
   "cell_type": "markdown",
   "metadata": {
    "id": "Of2qHZyffU7-"
   },
   "source": [
    "Nous avons donc nos métriques de Baseline et nous allons à présent pouvoir réaliser cinq autres modèles de régression linéaire multivariée et le comparer aux métriques de base obtenues. "
   ]
  },
  {
   "cell_type": "markdown",
   "metadata": {
    "id": "yeTF-GUve-BH"
   },
   "source": [
    "**Choix des hyperparamètres avec GridSearch**"
   ]
  },
  {
   "cell_type": "code",
   "execution_count": 10,
   "metadata": {
    "id": "Be-xGY9EJXBZ"
   },
   "outputs": [],
   "source": [
    "#on peut utiliser estimator.get_params() pour connaitre estimator parameters example RidgeCV().get_params()\n",
    "model_param= {\n",
    "\n",
    "'Ridge': {'model': Ridge(), \n",
    "          'params': {'alpha':[1, 10, 0.1, 0.001]}},\n",
    "\n",
    "\n",
    "'svm': {\n",
    "    'model':SVR(),\n",
    "    'params':{\n",
    "        'C': [1.0, 10, 100],\n",
    "        'kernel': ['linear', 'rbf'],\n",
    "        'gamma': [0.0001, 0.001, 0.005, 0.1]\n",
    "       \n",
    "             }\n",
    "    },\n",
    "\n",
    "'RandomForest': {\n",
    "    'model': RandomForestRegressor(),\n",
    "    'params': {\n",
    "        'n_estimators': [10, 50, 100, 1000]\n",
    "        \n",
    "              }\n",
    "               },\n",
    "\n",
    "'GradientBoosting':{\n",
    "    'model': GradientBoostingRegressor(),\n",
    "    'params': {'n_estimators': [10, 50, 100, 1000]}\n",
    "}\n",
    "}"
   ]
  },
  {
   "cell_type": "markdown",
   "metadata": {
    "id": "pxMLQgEoCH8o"
   },
   "source": [
    "Hyper paramètres pour la variable **TotalGHGEmissions**"
   ]
  },
  {
   "cell_type": "code",
   "execution_count": 11,
   "metadata": {
    "colab": {
     "base_uri": "https://localhost:8080/"
    },
    "id": "-AygxOruv7p3",
    "outputId": "fdcb7be1-600b-427f-93c7-f106da773dec"
   },
   "outputs": [
    {
     "data": {
      "text/plain": [
       "array([['Ridge', -3.6072872167464448e-06, {'alpha': 0.001}],\n",
       "       ['svm', -0.048094259623741385,\n",
       "        {'C': 1.0, 'gamma': 0.0001, 'kernel': 'linear'}],\n",
       "       ['RandomForest', -0.04855505339545402, {'n_estimators': 50}],\n",
       "       ['GradientBoosting', -0.04598763282403501, {'n_estimators': 1000}]],\n",
       "      dtype=object)"
      ]
     },
     "execution_count": 11,
     "metadata": {},
     "output_type": "execute_result"
    }
   ],
   "source": [
    "model_scores=[]\n",
    "for model_name , model_para in model_param.items():\n",
    "  GS= GridSearchCV(model_para['model'], model_para['params'], cv=5, scoring='neg_mean_absolute_error')\n",
    "  #cv is the number of fold\n",
    "  GS.fit(X_train, y_train['TotalGHGEmissions'])\n",
    "  model_scores.append(\n",
    "      {\n",
    "      'model':model_name,\n",
    "      'best_score': GS.best_score_,\n",
    "      'best_param':GS.best_params_,\n",
    "       })\n",
    "pd.DataFrame(model_scores).values"
   ]
  },
  {
   "cell_type": "markdown",
   "metadata": {
    "id": "nMr3m56u617x"
   },
   "source": [
    "Implementer les modèles avec les best hyper maramètres affichier par GridsearchCV pour la variable **TotalGHGEmissions**"
   ]
  },
  {
   "cell_type": "code",
   "execution_count": 12,
   "metadata": {
    "id": "FfKlljIO61LA"
   },
   "outputs": [],
   "source": [
    "def Gradient_boosting():\n",
    "   gb=GradientBoostingRegressor(n_estimators=1000) \n",
    "   gb.fit(X_train, y_train['TotalGHGEmissions'])\n",
    "   y_pred= gb.predict(X_test)\n",
    "   return y_pred\n",
    "\n",
    "def random_forest():\n",
    "    rf = RandomForestRegressor(n_estimators = 50, random_state = 42)\n",
    "    rf.fit(X_train, y_train['TotalGHGEmissions']) \n",
    "    y_pred= rf.predict(X_test)\n",
    "    return y_pred\n",
    "\n",
    "def SVM():\n",
    "  svm = SVR(kernel='linear', gamma= 0.0001, C= 1 )\n",
    "  svm= svm.fit(X_train, y_train['TotalGHGEmissions'])\n",
    "  y_pred= svm.predict(X_test)\n",
    "  return y_pred\n",
    "  \n",
    "def Ridges():\n",
    "   ridge = Ridge(alpha=0.001)\n",
    "   ridge.fit(X_train, y_train['TotalGHGEmissions'])\n",
    "   y_pred = ridge.predict(X_test)\n",
    "   return y_pred\n"
   ]
  },
  {
   "cell_type": "markdown",
   "metadata": {
    "id": "2EvyLHOSJfQa"
   },
   "source": [
    "### 3.1.2 Prédiction des émissions de CO2 avec la variable 'ENERGYSTARScore'"
   ]
  },
  {
   "cell_type": "markdown",
   "metadata": {},
   "source": [
    "La variable 'ENERGYSTARScore' fournit une aperçue complet de la performance énérgitique d'un batiment. \n",
    "\n",
    "Il est exprimé sur une échelle de 1 à 100 facile à comprendre : plus le score est élevé, meilleure est la performance énergétique du bâtiment."
   ]
  },
  {
   "cell_type": "markdown",
   "metadata": {},
   "source": [
    "Notre objectif est d'évaluer l'interet de la variable ENERGYSTARScore pour la prédiction d'émissions CO2"
   ]
  },
  {
   "cell_type": "code",
   "execution_count": 13,
   "metadata": {
    "colab": {
     "base_uri": "https://localhost:8080/",
     "height": 373
    },
    "id": "0zyBYP3266e1",
    "outputId": "ed04f1de-b3e0-4d5f-feed-80462bab62cd"
   },
   "outputs": [
    {
     "name": "stdout",
     "output_type": "stream",
     "text": [
      "       linear Regression  RandomForest     Ridge       SVM  Gradient boosting\n",
      "Model                                                                        \n",
      "R2              1.000000      0.659383  1.000000  0.997378           0.679352\n",
      "MAE             0.000003      0.041959  0.000003  0.047811           0.049265\n",
      "RMSE            0.000004      0.591676  0.000004  0.051908           0.574070\n"
     ]
    },
    {
     "data": {
      "image/png": "[encoded data removed]",
      "text/plain": [
       "<Figure size 432x288 with 1 Axes>"
      ]
     },
     "metadata": {
      "needs_background": "light"
     },
     "output_type": "display_data"
    }
   ],
   "source": [
    "#RandomForest\n",
    "y_pred_r= random_forest()\n",
    "add_model( model1 ,'RandomForest', y_test[:, 0], y_pred_r)\n",
    "\n",
    "#Ridge     \n",
    "y_pred_ridge=Ridges()\n",
    "add_model(model1, 'Ridge', y_test[:, 0], y_pred_ridge)\n",
    "#\n",
    "#SVM\n",
    "y_pred_svm= SVM()\n",
    "add_model(model1, 'SVM', y_test[:, 0], y_pred_svm)\n",
    "#\n",
    "#Gradient boosting\n",
    "y_pred_gb = Gradient_boosting()\n",
    "add_model(model1, 'Gradient boosting', y_test[:, 0], y_pred_gb)\n",
    "\n",
    "print(pd.DataFrame(model1))\n",
    "plot(model1, 'TotalGHGEmissions')"
   ]
  },
  {
   "cell_type": "markdown",
   "metadata": {
    "id": "cioIaOyORtfs"
   },
   "source": [
    "**Observations**\n",
    "\n",
    "On comparant les résultats obtenus par chaque modèle, on constate que:\n",
    "\n",
    "- Les métriques des modèle Ridge semblent identiques avec celle de la baseline \"Régression linéaire\".\n",
    "- - Les métriques des modèle GBoost semblent identiques avec celle de Random Forest.\n",
    "- Les modèles linéaires (Ridge et RL) répondent plus à notre problème de prédiction que les modèles non-linéaires (SVM à noyau) et les modèles ensemblistes (GBoost et Random Forest).\n",
    "- Les métriques ne se sont que légérement améliorées pour les prédictions des émissions de CO2 entre le SVM et les modèles linéaires. "
   ]
  },
  {
   "cell_type": "markdown",
   "metadata": {
    "id": "qAqWt2QxKUgc"
   },
   "source": [
    "### 3.1.3 Prédiction des émissions de CO2 sans la variable 'ENERGYSTARScore'"
   ]
  },
  {
   "cell_type": "markdown",
   "metadata": {},
   "source": [
    "Dans ce paragraphe, nous allons voir si la variable ENERGYSTARScore a un impact sur la qualité de prédiction."
   ]
  },
  {
   "cell_type": "code",
   "execution_count": 14,
   "metadata": {
    "colab": {
     "base_uri": "https://localhost:8080/",
     "height": 449
    },
    "id": "o5m0Yn8WF6BY",
    "outputId": "71e2dd20-e10e-433b-b8db-23317f5d7e2d"
   },
   "outputs": [
    {
     "name": "stderr",
     "output_type": "stream",
     "text": [
      "C:\\Users\\Marwa\\anaconda3\\lib\\site-packages\\seaborn\\axisgrid.py:1969: UserWarning: The `size` parameter has been renamed to `height`; please update your code.\n",
      "  warnings.warn(msg, UserWarning)\n"
     ]
    },
    {
     "data": {
      "text/plain": [
       "<seaborn.axisgrid.PairGrid at 0x1ee2168e040>"
      ]
     },
     "execution_count": 14,
     "metadata": {},
     "output_type": "execute_result"
    },
    {
     "data": {
      "image/png": "[encoded data removed]",
      "text/plain": [
       "<Figure size 360x360 with 6 Axes>"
      ]
     },
     "metadata": {
      "needs_background": "light"
     },
     "output_type": "display_data"
    }
   ],
   "source": [
    "cols= ['TotalGHGEmissions','ENERGYSTARScore' ]\n",
    "sns.pairplot(dataset[cols], size = 2.5)"
   ]
  },
  {
   "cell_type": "markdown",
   "metadata": {
    "id": "9PldTNo7H5qH"
   },
   "source": [
    "On remarque ici que le score ENERGY STAR ne semble pas avoir de corrélation importante avec les émissions de CO2."
   ]
  },
  {
   "cell_type": "code",
   "execution_count": 15,
   "metadata": {
    "id": "r7wLaZwGJBFN"
   },
   "outputs": [],
   "source": [
    "X_train_s= X_train.drop(columns='ENERGYSTARScore', axis=1)\n",
    "X_test_s= X_test.drop(columns='ENERGYSTARScore', axis=1) "
   ]
  },
  {
   "cell_type": "code",
   "execution_count": 16,
   "metadata": {
    "id": "8csn7HvhJcuV"
   },
   "outputs": [],
   "source": [
    "def linear_():\n",
    "  lr=LinearRegression(fit_intercept=False, normalize=True)\n",
    "  lr.fit(X_train_s, y_train['TotalGHGEmissions'])\n",
    "  y_pred= lr.predict(X_test_s)\n",
    "  return y_pred \n",
    "def Gradient_boosting():\n",
    "   gb=GradientBoostingRegressor(n_estimators=1000) \n",
    "   gb.fit(X_train_s, y_train['TotalGHGEmissions'])\n",
    "   y_pred= gb.predict(X_test_s)\n",
    "   return y_pred\n",
    "\n",
    "def random_forest():\n",
    "    rf = RandomForestRegressor(n_estimators = 1000, random_state = 42)\n",
    "    rf.fit(X_train_s, y_train['TotalGHGEmissions']) \n",
    "    y_pred= rf.predict(X_test_s)\n",
    "    return y_pred\n",
    "\n",
    "def SVM():\n",
    "  svm = SVR(kernel='linear', gamma= 0.0001, C= 1 )\n",
    "  svm= svm.fit(X_train_s, y_train['TotalGHGEmissions'])\n",
    "  y_pred= svm.predict(X_test_s)\n",
    "  return y_pred\n",
    "  \n",
    "def Ridges():\n",
    "   ridge = Ridge(alpha=0.001)\n",
    "   ridge.fit(X_train_s, y_train['TotalGHGEmissions'])\n",
    "   y_pred = ridge.predict(X_test_s)\n",
    "   return y_pred\n",
    "\n"
   ]
  },
  {
   "cell_type": "code",
   "execution_count": 17,
   "metadata": {
    "colab": {
     "base_uri": "https://localhost:8080/",
     "height": 648
    },
    "id": "XRv-FKONJ2XW",
    "outputId": "891b93d3-29e5-4e4e-8e3c-1b2fc9c19d90"
   },
   "outputs": [
    {
     "name": "stdout",
     "output_type": "stream",
     "text": [
      "        linear_  RandomForest     Ridge       SVM  Gradient boosting\n",
      "Model                                                               \n",
      "R2     1.000000      0.637141  1.000000  0.995263           0.495530\n",
      "MAE    0.000003      0.045904  0.000003  0.068397           0.058948\n",
      "RMSE   0.000004      0.610688  0.000004  0.069776           0.720059\n"
     ]
    },
    {
     "data": {
      "image/png": "[encoded data removed]",
      "text/plain": [
       "<Figure size 432x288 with 1 Axes>"
      ]
     },
     "metadata": {
      "needs_background": "light"
     },
     "output_type": "display_data"
    }
   ],
   "source": [
    "\n",
    "model3 = initialiser()\n",
    "\n",
    "y_predlr= linear_()\n",
    "add_model(model3, 'linear_', y_test[:,0], y_predlr)\n",
    "#RandomForest\n",
    "y_pred_r= random_forest()\n",
    "add_model( model3 ,'RandomForest', y_test[:, 0], y_pred_r)\n",
    "\n",
    "#Ridge     \n",
    "y_pred_ridge=Ridges()\n",
    "add_model(model3, 'Ridge', y_test[:, 0], y_pred_ridge)\n",
    "#\n",
    "#SVM\n",
    "y_pred_svm= SVM()\n",
    "add_model(model3, 'SVM', y_test[:, 0], y_pred_svm)\n",
    "#\n",
    "#Gradient boosting\n",
    "y_pred_gb = Gradient_boosting()\n",
    "add_model(model3, 'Gradient boosting', y_test[:, 0], y_pred_gb)\n",
    "\n",
    "print(pd.DataFrame(model3))\n",
    "plot(model3, 'TotalGHGEmissions')"
   ]
  },
  {
   "cell_type": "markdown",
   "metadata": {
    "id": "ObBHMIsITtnA"
   },
   "source": [
    "**Interpretations** \n",
    "On comparant les résultats obtenus par chaque modèle, on constate que:\n",
    "\n",
    "- Comme dans le cas de l'étude précedante avec en tenant compte de la feature \"ENERGYSTARScore\" : les métriques des modèle Ridge semblent identiques avec celle de la baseline \"Régression linéaire\".\n",
    "- Les modèles linéaires (Ridge et RL) répondent plus à notre problème de prédiction que les modèles non-linéaires (SVM à noyau) et les modèles ensemblistes (GBoost et Random Forest).\n",
    "- Les métriques se sont améliorées pour les prédictions des émissions de CO2 nos modèles avec la variable ENERGYSTARScore. En d'autres termes, cette variable a un impact sur les prédictions."
   ]
  },
  {
   "cell_type": "markdown",
   "metadata": {},
   "source": [
    "### 3.1.4 Prédiction des émissions de CO2 après ACP"
   ]
  },
  {
   "cell_type": "code",
   "execution_count": 18,
   "metadata": {
    "id": "rljL0eC5hwlx"
   },
   "outputs": [],
   "source": [
    "y= dataset[['TotalGHGEmissions','SiteEnergyUse(kBtu)']]\n",
    "X_train_pca, X_test_pca, y_train_pca, y_test_pca= train_test_split(X_projected.iloc[:,:4],y,  test_size=0.2, random_state=42)"
   ]
  },
  {
   "cell_type": "code",
   "execution_count": 19,
   "metadata": {
    "id": "rvz358itLQta"
   },
   "outputs": [],
   "source": [
    "def linear_():\n",
    "  lr=LinearRegression(fit_intercept=False, normalize=True)\n",
    "  lr.fit(X_train_pca, y_train_pca['TotalGHGEmissions'])\n",
    "  y_pred= lr.predict(X_test_pca)\n",
    "  return y_pred \n",
    "def Gradient_boosting():\n",
    "   gb=GradientBoostingRegressor(n_estimators=1000) \n",
    "   gb.fit(X_train_pca, y_train_pca['TotalGHGEmissions'])\n",
    "   y_pred= gb.predict(X_test_pca)\n",
    "   return y_pred\n",
    "\n",
    "def random_forest():\n",
    "    rf = RandomForestRegressor(n_estimators = 1000, random_state = 42)\n",
    "    rf.fit(X_train_pca, y_train_pca['TotalGHGEmissions']) \n",
    "    y_pred= rf.predict(X_test_pca)\n",
    "    return y_pred\n",
    "\n",
    "def SVM():\n",
    "  svm = SVR(kernel='linear', gamma= 0.0001, C= 1 )\n",
    "  svm= svm.fit(X_train_pca, y_train_pca['TotalGHGEmissions'])\n",
    "  y_pred= svm.predict(X_test_pca)\n",
    "  return y_pred\n",
    "  \n",
    "def Ridges():\n",
    "   ridge = Ridge(alpha=0.001)\n",
    "   ridge.fit(X_train_pca, y_train_pca['TotalGHGEmissions'])\n",
    "   y_pred = ridge.predict(X_test_pca)\n",
    "   return y_pred\n"
   ]
  },
  {
   "cell_type": "code",
   "execution_count": 20,
   "metadata": {
    "colab": {
     "base_uri": "https://localhost:8080/",
     "height": 648
    },
    "id": "-xkp6VFZL8Ox",
    "outputId": "cce871ec-aba6-4400-d084-5746924a7318"
   },
   "outputs": [
    {
     "name": "stdout",
     "output_type": "stream",
     "text": [
      "        linear_  RandomForest     Ridge       SVM  Gradient boosting\n",
      "Model                                                               \n",
      "R2     0.915263      0.928481  0.915257  0.893970           0.884480\n",
      "MAE    0.107039      0.072991  0.107048  0.094648           0.079461\n",
      "RMSE   0.295112      0.271120  0.295122  0.330114           0.344571\n"
     ]
    },
    {
     "data": {
      "image/png": "[encoded data removed]",
      "text/plain": [
       "<Figure size 432x288 with 1 Axes>"
      ]
     },
     "metadata": {
      "needs_background": "light"
     },
     "output_type": "display_data"
    }
   ],
   "source": [
    "y_test_pca= np.array(y_test_pca)\n",
    "model5= initialiser()\n",
    "\n",
    "#linear Regression \n",
    "y_predlr= linear_()\n",
    "add_model(model5, 'linear_', y_test_pca[:,0], y_predlr)\n",
    "\n",
    "#RandomForest\n",
    "y_pred_r= random_forest()\n",
    "add_model( model5 ,'RandomForest', y_test_pca[:, 0], y_pred_r)\n",
    "\n",
    "#Ridge     \n",
    "y_pred_ridge=Ridges()\n",
    "add_model(model5, 'Ridge', y_test_pca[:, 0], y_pred_ridge)\n",
    "#\n",
    "#SVM\n",
    "y_pred_svm= SVM()\n",
    "add_model(model5, 'SVM', y_test_pca[:, 0], y_pred_svm)\n",
    "#\n",
    "#Gradient boosting\n",
    "y_pred_gb = Gradient_boosting()\n",
    "add_model(model5, 'Gradient boosting', y_test_pca[:, 0], y_pred_gb)\n",
    "\n",
    "print(pd.DataFrame(model5))\n",
    "plot(model5, 'TotalGHGEmissions')"
   ]
  },
  {
   "cell_type": "markdown",
   "metadata": {
    "id": "COC2uY9sT6_7"
   },
   "source": [
    "**Interpretations**\n",
    "\n",
    "On comparant les résultats obtenus par chaque modèle, on constate que:\n",
    "\n",
    "- Les métriques des modèle Ridge semblent très proches avec celle de la baseline \"Régression linéaire\".\n",
    "- Les modèles linéaires (Ridge et RL) répondent moins que la Rondom forest à notre problème de prédiction.\n",
    "- Les métriques de modèle Random forest conviennet le plus pour les prédictions des émissions de CO2. \n",
    "- On constate ici que tous les Métriques pour tous les modèles ont totalement changé d'ordre avec une dégradation des performances sauf une lègere amélioration pour les métriques du foréts aléatoires.\n",
    "- On peut en déduire donc que la technique PCA influe négativement sur la prédiction des émissions de CO2. "
   ]
  },
  {
   "cell_type": "markdown",
   "metadata": {
    "id": "p2olZQW4rsZ_"
   },
   "source": [
    "## 3.2 Modèles de consommation totale d'énergie"
   ]
  },
  {
   "cell_type": "markdown",
   "metadata": {
    "id": "uJThL_jW3u7s"
   },
   "source": [
    "### 3.2.1 Optimisation des hyperparamètres"
   ]
  },
  {
   "cell_type": "code",
   "execution_count": 21,
   "metadata": {
    "colab": {
     "base_uri": "https://localhost:8080/"
    },
    "id": "G2DIBBKo4Xiu",
    "outputId": "adba4404-23d1-4f30-cd9a-083240053c0a"
   },
   "outputs": [],
   "source": [
    "from sklearn.model_selection import GridSearchCV\n",
    "params= {'fit_intercept': [True, False],\n",
    "                      'normalize': [True, False]}\n",
    "\n",
    "GS = GridSearchCV(LinearRegression(), param_grid=params, cv=5, scoring='neg_mean_absolute_error')\n",
    "GS.fit(X_train, y_train['SiteEnergyUse(kBtu)'])\n",
    "model_scores=[]\n",
    "model_scores.append(\n",
    "      {\n",
    "      'model':'LinearRegression',\n",
    "      'best_score': GS.best_score_,\n",
    "      'best_param':GS.best_params_,\n",
    "       })\n",
    "pd.DataFrame(model_scores).values\n",
    "lr2= GS.best_estimator_"
   ]
  },
  {
   "cell_type": "code",
   "execution_count": 22,
   "metadata": {
    "colab": {
     "base_uri": "https://localhost:8080/"
    },
    "id": "Sh54RWJ34Xiv",
    "outputId": "0733cbbf-a6c1-4543-adc2-7e840ac4d4e8"
   },
   "outputs": [
    {
     "data": {
      "text/plain": [
       "LinearRegression(fit_intercept=False, normalize=True)"
      ]
     },
     "execution_count": 22,
     "metadata": {},
     "output_type": "execute_result"
    }
   ],
   "source": [
    "GS.best_estimator_\n"
   ]
  },
  {
   "cell_type": "markdown",
   "metadata": {
    "id": "kxoIH8YpXaYi"
   },
   "source": [
    "**Baseline**"
   ]
  },
  {
   "cell_type": "code",
   "execution_count": 23,
   "metadata": {
    "colab": {
     "base_uri": "https://localhost:8080/"
    },
    "id": "CfxSZpt04Xiv",
    "outputId": "4455d55d-7d3d-4687-f24a-cf14681061f6"
   },
   "outputs": [
    {
     "name": "stdout",
     "output_type": "stream",
     "text": [
      "       linear Regression\n",
      "Model                   \n",
      "R2              0.994095\n",
      "MAE             0.020707\n",
      "RMSE            0.069156\n"
     ]
    }
   ],
   "source": [
    "lr2.fit(X_train, y_train['SiteEnergyUse(kBtu)'])\n",
    "y_pred= lr2.predict(X_test)\n",
    "model2= initialiser()\n",
    "add_model(model2, 'linear Regression', y_test[:, 1], y_pred)\n",
    "print(pd.DataFrame(model2))"
   ]
  },
  {
   "cell_type": "markdown",
   "metadata": {
    "id": "8VxUoCNf4-9m"
   },
   "source": [
    "Nous avons à ce stade les résultats de notre baseline, passons pour les autres modèles.On affiche les hyper paramètres de la GridSearch avec validation croisée pour chaque variable.  "
   ]
  },
  {
   "cell_type": "markdown",
   "metadata": {
    "id": "gXcbwBgXC0Tq"
   },
   "source": [
    "Hyper paramètres pour la variables **SiteEnergyUse(kbtu)**"
   ]
  },
  {
   "cell_type": "code",
   "execution_count": 24,
   "metadata": {
    "colab": {
     "base_uri": "https://localhost:8080/"
    },
    "id": "NTOPmR416Dco",
    "outputId": "3563e8a9-c375-4044-d00d-7cc0b79da92c"
   },
   "outputs": [
    {
     "data": {
      "text/plain": [
       "array([['Ridge', -0.01827189348765983, {'alpha': 1}],\n",
       "       ['svm', -0.05349410425283595,\n",
       "        {'C': 100, 'gamma': 0.0001, 'kernel': 'linear'}],\n",
       "       ['RandomForest', -0.05190822052167673, {'n_estimators': 1000}],\n",
       "       ['GradientBoosting', -0.038885421946361985,\n",
       "        {'n_estimators': 1000}]], dtype=object)"
      ]
     },
     "execution_count": 24,
     "metadata": {},
     "output_type": "execute_result"
    }
   ],
   "source": [
    "model_scores=[]\n",
    "for model_name , model_para in model_param.items():\n",
    "  GS= GridSearchCV(model_para['model'], model_para['params'], cv=5, scoring='neg_mean_absolute_error')\n",
    "  #cv is the number of fold\n",
    "  GS.fit(X_train, y_train['SiteEnergyUse(kBtu)'])\n",
    "  model_scores.append(\n",
    "      {\n",
    "      'model':model_name,\n",
    "      'best_score': GS.best_score_,\n",
    "      'best_param':GS.best_params_,\n",
    "       })\n",
    "pd.DataFrame(model_scores).values"
   ]
  },
  {
   "cell_type": "markdown",
   "metadata": {
    "id": "S21dK1z1XNEQ"
   },
   "source": [
    "**prédiction de SiteEnergyUse(kBtu)**"
   ]
  },
  {
   "cell_type": "code",
   "execution_count": 25,
   "metadata": {
    "id": "FXT0d1cmvwET"
   },
   "outputs": [],
   "source": [
    "def Gradient_boosting():\n",
    "   gb=GradientBoostingRegressor(n_estimators=1000) \n",
    "   gb.fit(X_train, y_train['SiteEnergyUse(kBtu)'])\n",
    "   y_pred= gb.predict(X_test)\n",
    "   return y_pred\n",
    "\n",
    "def random_forest():\n",
    "    rf = RandomForestRegressor(n_estimators = 1000)\n",
    "    rf.fit(X_train, y_train['SiteEnergyUse(kBtu)']) \n",
    "    y_pred= rf.predict(X_test)\n",
    "    return y_pred\n",
    "\n",
    "def SVM():\n",
    "  #kernal: rbf, linear, poly\n",
    "  #C: integer\n",
    "  # Gamma: float (auto)\n",
    "  svm = SVR(kernel='linear', gamma= 0.0001, C= 100)\n",
    "  svm= svm.fit(X_train, y_train['SiteEnergyUse(kBtu)'])\n",
    "  y_pred= svm.predict(X_test)\n",
    "  return y_pred\n",
    "  \n",
    "def Ridges():\n",
    "   ridge = Ridge(alpha=1)\n",
    "   ridge.fit(X_train, y_train['SiteEnergyUse(kBtu)'])\n",
    "   y_pred = ridge.predict(X_test)\n",
    "   return y_pred\n"
   ]
  },
  {
   "cell_type": "markdown",
   "metadata": {
    "id": "809sP0aLzr-l"
   },
   "source": [
    "**'SiteEnergyUse(kBtu) avant PCA**"
   ]
  },
  {
   "cell_type": "code",
   "execution_count": 26,
   "metadata": {
    "colab": {
     "base_uri": "https://localhost:8080/",
     "height": 373
    },
    "id": "rAPsS6j8B587",
    "outputId": "10197fa2-00f9-41fc-dae5-598ef80d55b6"
   },
   "outputs": [
    {
     "name": "stdout",
     "output_type": "stream",
     "text": [
      "       linear Regression  RandomForest     Ridge       SVM  Gradient boosting\n",
      "Model                                                                        \n",
      "R2              0.994095      0.910670  0.994862  0.990325           0.802940\n",
      "MAE             0.020707      0.040762  0.019727  0.058057           0.045818\n",
      "RMSE            0.069156      0.268987  0.064513  0.088524           0.399513\n"
     ]
    },
    {
     "data": {
      "image/png": "[encoded data removed]",
      "text/plain": [
       "<Figure size 432x288 with 1 Axes>"
      ]
     },
     "metadata": {
      "needs_background": "light"
     },
     "output_type": "display_data"
    }
   ],
   "source": [
    "y_test=np.array(y_test)\n",
    "#RandomForest\n",
    "y_pred_r= random_forest()\n",
    "add_model( model2 ,'RandomForest', y_test[:,1], y_pred_r) \n",
    "\n",
    "#Ridge     \n",
    "y_pred_ridge=Ridges()\n",
    "add_model(model2, 'Ridge', y_test[:,1], y_pred_ridge)\n",
    "#\n",
    "#SVM\n",
    "y_pred_svm= SVM()\n",
    "add_model(model2, 'SVM', y_test[:,1], y_pred_svm)\n",
    "#\n",
    "#Gradient boosting\n",
    "y_pred_gb = Gradient_boosting()\n",
    "add_model(model2, 'Gradient boosting', y_test[:,1], y_pred_gb)\n",
    "print(pd.DataFrame(model2))\n",
    "plot(model2, 'SiteEnergyUse(kBtu)')"
   ]
  },
  {
   "cell_type": "markdown",
   "metadata": {
    "id": "xYmuwNvEQMLU"
   },
   "source": [
    "**Interpretations**\n",
    "\n",
    "On comparant les résultats obtenus par chaque modèle, on constate que:\n",
    "\n",
    "- Les métriques des modèle Ridge semblent identiques avec celle de la baseline \"Régression linéaire\".\n",
    "- Les modèles linéaires (Ridge et RL) répondent le plus à notre problème de prédiction de la consommation totale d'énergie par rapport aux modèles non-linéaires (SVM à noyau gaussian) et les modèles ensemblistes (GBoost et Random Forest)."
   ]
  },
  {
   "cell_type": "markdown",
   "metadata": {
    "id": "XwnFQooUscri"
   },
   "source": [
    "**'SiteEnergyUse(kBtu) aprés PCA**"
   ]
  },
  {
   "cell_type": "code",
   "execution_count": 27,
   "metadata": {
    "id": "tsoispo_LgX6"
   },
   "outputs": [],
   "source": [
    "def linear_():\n",
    "  lr=LinearRegression(fit_intercept=False, normalize=True)\n",
    "  lr.fit(X_train_pca, y_train_pca['SiteEnergyUse(kBtu)'])\n",
    "  y_pred= lr.predict(X_test_pca)\n",
    "  return y_pred \n",
    "\n",
    "def Gradient_boosting():\n",
    "   gb=GradientBoostingRegressor(n_estimators=1000) \n",
    "   gb.fit(X_train_pca, y_train_pca['SiteEnergyUse(kBtu)'])\n",
    "   y_pred= gb.predict(X_test_pca)\n",
    "   return y_pred\n",
    "\n",
    "def random_forest():\n",
    "    rf = RandomForestRegressor(n_estimators = 1000)\n",
    "    rf.fit(X_train_pca, y_train_pca['SiteEnergyUse(kBtu)']) \n",
    "    y_pred= rf.predict(X_test_pca)\n",
    "    return y_pred\n",
    "\n",
    "def SVM():\n",
    "  #kernal: rbf, linear, poly\n",
    "  #C: integer\n",
    "  # Gamma: float (auto)\n",
    "  svm = SVR(kernel='linear', gamma= 0.0001, C= 100)\n",
    "  svm= svm.fit(X_train_pca, y_train_pca['SiteEnergyUse(kBtu)'])\n",
    "  y_pred= svm.predict(X_test_pca)\n",
    "  return y_pred\n",
    "  \n",
    "def Ridges():\n",
    "   ridge = Ridge(alpha=1)\n",
    "   ridge.fit(X_train_pca, y_train_pca['SiteEnergyUse(kBtu)'])\n",
    "   y_pred = ridge.predict(X_test_pca)\n",
    "   return y_pred\n"
   ]
  },
  {
   "cell_type": "code",
   "execution_count": 28,
   "metadata": {
    "colab": {
     "base_uri": "https://localhost:8080/",
     "height": 648
    },
    "id": "C6a8-__-LgX7",
    "outputId": "0ff9713e-6956-4a7e-e72d-ec249f4d49cb"
   },
   "outputs": [
    {
     "name": "stdout",
     "output_type": "stream",
     "text": [
      "         linear  RandomForest     Ridge       SVM  Gradient boosting\n",
      "Model                                                               \n",
      "R2     0.924624      0.848446  0.924457  0.921998           0.893293\n",
      "MAE    0.070599      0.076430  0.071016  0.079453           0.069328\n",
      "RMSE   0.247086      0.350361  0.247360  0.251353           0.293987\n"
     ]
    },
    {
     "data": {
      "image/png": "[encoded data removed]",
      "text/plain": [
       "<Figure size 432x288 with 1 Axes>"
      ]
     },
     "metadata": {
      "needs_background": "light"
     },
     "output_type": "display_data"
    }
   ],
   "source": [
    "y_test_pca=np.array(y_test_pca)\n",
    "\n",
    "model4= initialiser()\n",
    "\n",
    "#linear Regression \n",
    "y_predlr= linear_()\n",
    "add_model(model4, 'linear', y_test_pca[:,1], y_predlr)\n",
    "#RandomForest\n",
    "y_pred_r= random_forest()\n",
    "add_model( model4 ,'RandomForest', y_test[:,1], y_pred_r) \n",
    "\n",
    "#Ridge     \n",
    "y_pred_ridge=Ridges()\n",
    "add_model(model4, 'Ridge', y_test[:,1], y_pred_ridge)\n",
    "#\n",
    "#SVM\n",
    "y_pred_svm= SVM()\n",
    "add_model(model4, 'SVM', y_test[:,1], y_pred_svm)\n",
    "#\n",
    "#Gradient boosting\n",
    "y_pred_gb = Gradient_boosting()\n",
    "add_model(model4, 'Gradient boosting', y_test[:,1], y_pred_gb)\n",
    "print(pd.DataFrame(model4))\n",
    "plot(model4, 'SiteEnergyUse(kBtu)')"
   ]
  },
  {
   "cell_type": "markdown",
   "metadata": {},
   "source": [
    "**Interpretations**\n",
    "\n",
    "On comparant les résultats obtenus par chaque modèle, on constate que:\n",
    "\n",
    "- Les métriques des modèle Ridge, et SVM semblent identiques avec celle de la baseline \"Régression linéaire\".\n",
    "- Les modèles linéaires (Ridge et RL) et non linéaires (SVM) répondent le plus à notre problème de prédiction de consommation totale d'énergie par rapport aux modèles ensemblistes (GBoost et Random Forest).\n",
    "- On constate ici que tous les Métriques pour tous les modèles ont eu une lègere amélioration pour les modèles ensemblistes.\n",
    "- On peut en déduire donc que la technique PCA influe positivement sur la prédiction de la consommation d'énergie par modèles ensemblistes et négativement sur les modèles linéaires et non linéaires."
   ]
  },
  {
   "cell_type": "markdown",
   "metadata": {
    "id": "KJswT2-HypyR"
   },
   "source": [
    "## 3.3 Comparaison entre les performances des modèles après ACP et Lasso"
   ]
  },
  {
   "cell_type": "markdown",
   "metadata": {
    "id": "ObuNVw8WxVoS"
   },
   "source": [
    "### 3.3.1 Emission de CO2"
   ]
  },
  {
   "cell_type": "code",
   "execution_count": 29,
   "metadata": {
    "colab": {
     "base_uri": "https://localhost:8080/",
     "height": 175
    },
    "id": "gDdmeV1GxVoS",
    "outputId": "46519be6-9a2d-48e7-f6aa-cd2679113a54"
   },
   "outputs": [
    {
     "data": {
      "text/html": [
       "<div>\n",
       "<style scoped>\n",
       "    .dataframe tbody tr th:only-of-type {\n",
       "        vertical-align: middle;\n",
       "    }\n",
       "\n",
       "    .dataframe tbody tr th {\n",
       "        vertical-align: top;\n",
       "    }\n",
       "\n",
       "    .dataframe thead th {\n",
       "        text-align: right;\n",
       "    }\n",
       "</style>\n",
       "<table border=\"1\" class=\"dataframe\">\n",
       "  <thead>\n",
       "    <tr style=\"text-align: right;\">\n",
       "      <th></th>\n",
       "      <th>linear Regression baseline</th>\n",
       "    </tr>\n",
       "    <tr>\n",
       "      <th>Model</th>\n",
       "      <th></th>\n",
       "    </tr>\n",
       "  </thead>\n",
       "  <tbody>\n",
       "    <tr>\n",
       "      <th>R2</th>\n",
       "      <td>0.718216</td>\n",
       "    </tr>\n",
       "    <tr>\n",
       "      <th>MAE</th>\n",
       "      <td>0.154983</td>\n",
       "    </tr>\n",
       "    <tr>\n",
       "      <th>RMSE</th>\n",
       "      <td>0.538156</td>\n",
       "    </tr>\n",
       "  </tbody>\n",
       "</table>\n",
       "</div>"
      ],
      "text/plain": [
       "       linear Regression baseline\n",
       "Model                            \n",
       "R2                       0.718216\n",
       "MAE                      0.154983\n",
       "RMSE                     0.538156"
      ]
     },
     "execution_count": 29,
     "metadata": {},
     "output_type": "execute_result"
    }
   ],
   "source": [
    "#linearRegression Baseline\n",
    "def linear():\n",
    "  lr=LinearRegression(fit_intercept=False, normalize=True)\n",
    "  lr.fit(X_train, y_train['TotalGHGEmissions'])\n",
    "  y_pred= lr.predict(X_test)\n",
    "\n",
    "model6= initialiser()\n",
    "add_model(model6, 'linear Regression baseline', y_test[:, 0], y_pred)\n",
    "\n"
   ]
  },
  {
   "cell_type": "code",
   "execution_count": 30,
   "metadata": {
    "colab": {
     "base_uri": "https://localhost:8080/",
     "height": 450
    },
    "id": "HgM_k85rxVoS",
    "outputId": "2657b0b1-b8d6-4a38-e59b-0d94d5b02cb3"
   },
   "outputs": [
    {
     "data": {
      "text/html": [
       "<div>\n",
       "<style scoped>\n",
       "    .dataframe tbody tr th:only-of-type {\n",
       "        vertical-align: middle;\n",
       "    }\n",
       "\n",
       "    .dataframe tbody tr th {\n",
       "        vertical-align: top;\n",
       "    }\n",
       "\n",
       "    .dataframe thead th {\n",
       "        text-align: right;\n",
       "    }\n",
       "</style>\n",
       "<table border=\"1\" class=\"dataframe\">\n",
       "  <thead>\n",
       "    <tr style=\"text-align: right;\">\n",
       "      <th></th>\n",
       "      <th>linear Regression baseline</th>\n",
       "      <th>linear Regression avec PCA</th>\n",
       "    </tr>\n",
       "    <tr>\n",
       "      <th>Model</th>\n",
       "      <th></th>\n",
       "      <th></th>\n",
       "    </tr>\n",
       "  </thead>\n",
       "  <tbody>\n",
       "    <tr>\n",
       "      <th>R2</th>\n",
       "      <td>0.718216</td>\n",
       "      <td>0.915263</td>\n",
       "    </tr>\n",
       "    <tr>\n",
       "      <th>MAE</th>\n",
       "      <td>0.154983</td>\n",
       "      <td>0.107039</td>\n",
       "    </tr>\n",
       "    <tr>\n",
       "      <th>RMSE</th>\n",
       "      <td>0.538156</td>\n",
       "      <td>0.295112</td>\n",
       "    </tr>\n",
       "  </tbody>\n",
       "</table>\n",
       "</div>"
      ],
      "text/plain": [
       "       linear Regression baseline  linear Regression avec PCA\n",
       "Model                                                        \n",
       "R2                       0.718216                    0.915263\n",
       "MAE                      0.154983                    0.107039\n",
       "RMSE                     0.538156                    0.295112"
      ]
     },
     "execution_count": 30,
     "metadata": {},
     "output_type": "execute_result"
    }
   ],
   "source": [
    "#linearRegression avec PCA \n",
    "lr=LinearRegression(fit_intercept=False, normalize=True)\n",
    "lr.fit(X_train_pca, y_train_pca['TotalGHGEmissions'])\n",
    "y_pred= lr.predict(X_test_pca)\n",
    "add_model(model6, 'linear Regression avec PCA', y_test_pca[:, 0], y_pred)"
   ]
  },
  {
   "cell_type": "code",
   "execution_count": 31,
   "metadata": {
    "colab": {
     "base_uri": "https://localhost:8080/",
     "height": 373
    },
    "id": "dHfSpBuFxVoT",
    "outputId": "c893e0f4-1ba0-4255-e9fd-973928cb9242"
   },
   "outputs": [
    {
     "name": "stdout",
     "output_type": "stream",
     "text": [
      "       linear Regression baseline  linear Regression avec PCA     LASSO\n",
      "Model                                                                  \n",
      "R2                       0.718216                    0.915263  0.999998\n",
      "MAE                      0.154983                    0.107039  0.000398\n",
      "RMSE                     0.538156                    0.295112  0.001551\n"
     ]
    },
    {
     "data": {
      "image/png": "[encoded data removed]",
      "text/plain": [
       "<Figure size 432x288 with 1 Axes>"
      ]
     },
     "metadata": {
      "needs_background": "light"
     },
     "output_type": "display_data"
    }
   ],
   "source": [
    "#linearRegression avec Lasso \n",
    "params= {'alpha':[1, 10, 0.1, 0.001]}\n",
    "\n",
    "GS = GridSearchCV(Lasso(), param_grid=params, cv=5, scoring='neg_mean_absolute_error')\n",
    "GS.fit(X_train, y_train['TotalGHGEmissions'])\n",
    "model_scores=[]\n",
    "model_scores.append(\n",
    "      {\n",
    "      'model':'LinearRegression',\n",
    "      'best_score': GS.best_score_,\n",
    "      'best_param':GS.best_params_,\n",
    "       })\n",
    "lr= GS.best_estimator_\n",
    "y_pred= lr.predict(X_test)\n",
    "##\n",
    "add_model(model6, 'LASSO', y_test[:, 0], y_pred)\n",
    "print(model6)\n",
    "plot(model6, 'TotalGHGEmissions')"
   ]
  },
  {
   "cell_type": "markdown",
   "metadata": {},
   "source": [
    "Le modèle Lasso semble étre le meilleur à prédire les émissions de CO2. "
   ]
  },
  {
   "cell_type": "markdown",
   "metadata": {
    "id": "hgblMNVDVRRH"
   },
   "source": [
    "### 3.3.2 Consommation totale d'energie"
   ]
  },
  {
   "cell_type": "code",
   "execution_count": 32,
   "metadata": {
    "colab": {
     "base_uri": "https://localhost:8080/",
     "height": 175
    },
    "id": "q_rYLzAoVX35",
    "outputId": "c29ee9c0-f9b4-4600-ff0a-50390569c53c"
   },
   "outputs": [
    {
     "data": {
      "text/html": [
       "<div>\n",
       "<style scoped>\n",
       "    .dataframe tbody tr th:only-of-type {\n",
       "        vertical-align: middle;\n",
       "    }\n",
       "\n",
       "    .dataframe tbody tr th {\n",
       "        vertical-align: top;\n",
       "    }\n",
       "\n",
       "    .dataframe thead th {\n",
       "        text-align: right;\n",
       "    }\n",
       "</style>\n",
       "<table border=\"1\" class=\"dataframe\">\n",
       "  <thead>\n",
       "    <tr style=\"text-align: right;\">\n",
       "      <th></th>\n",
       "      <th>linear Regression baseline</th>\n",
       "    </tr>\n",
       "    <tr>\n",
       "      <th>Model</th>\n",
       "      <th></th>\n",
       "    </tr>\n",
       "  </thead>\n",
       "  <tbody>\n",
       "    <tr>\n",
       "      <th>R2</th>\n",
       "      <td>0.682078</td>\n",
       "    </tr>\n",
       "    <tr>\n",
       "      <th>MAE</th>\n",
       "      <td>0.147866</td>\n",
       "    </tr>\n",
       "    <tr>\n",
       "      <th>RMSE</th>\n",
       "      <td>0.507449</td>\n",
       "    </tr>\n",
       "  </tbody>\n",
       "</table>\n",
       "</div>"
      ],
      "text/plain": [
       "       linear Regression baseline\n",
       "Model                            \n",
       "R2                       0.682078\n",
       "MAE                      0.147866\n",
       "RMSE                     0.507449"
      ]
     },
     "execution_count": 32,
     "metadata": {},
     "output_type": "execute_result"
    }
   ],
   "source": [
    "#linearRegression Baseline\n",
    "def linear():\n",
    "  lr=LinearRegression(fit_intercept=False, normalize=True)\n",
    "  lr.fit(X_train, y_train['SiteEnergyUse(kBtu)'])\n",
    "  y_pred= lr.predict(X_test)\n",
    "\n",
    "model7= initialiser()\n",
    "add_model(model7, 'linear Regression baseline', y_test[:, 1], y_pred)\n",
    "\n"
   ]
  },
  {
   "cell_type": "code",
   "execution_count": 33,
   "metadata": {
    "colab": {
     "base_uri": "https://localhost:8080/",
     "height": 450
    },
    "id": "TdXtS79TVX35",
    "outputId": "07f9dba2-875a-489b-c4fa-b980ffa22e75"
   },
   "outputs": [
    {
     "data": {
      "text/html": [
       "<div>\n",
       "<style scoped>\n",
       "    .dataframe tbody tr th:only-of-type {\n",
       "        vertical-align: middle;\n",
       "    }\n",
       "\n",
       "    .dataframe tbody tr th {\n",
       "        vertical-align: top;\n",
       "    }\n",
       "\n",
       "    .dataframe thead th {\n",
       "        text-align: right;\n",
       "    }\n",
       "</style>\n",
       "<table border=\"1\" class=\"dataframe\">\n",
       "  <thead>\n",
       "    <tr style=\"text-align: right;\">\n",
       "      <th></th>\n",
       "      <th>linear Regression baseline</th>\n",
       "      <th>linear Regression avec PCA</th>\n",
       "    </tr>\n",
       "    <tr>\n",
       "      <th>Model</th>\n",
       "      <th></th>\n",
       "      <th></th>\n",
       "    </tr>\n",
       "  </thead>\n",
       "  <tbody>\n",
       "    <tr>\n",
       "      <th>R2</th>\n",
       "      <td>0.682078</td>\n",
       "      <td>0.817865</td>\n",
       "    </tr>\n",
       "    <tr>\n",
       "      <th>MAE</th>\n",
       "      <td>0.147866</td>\n",
       "      <td>0.153688</td>\n",
       "    </tr>\n",
       "    <tr>\n",
       "      <th>RMSE</th>\n",
       "      <td>0.507449</td>\n",
       "      <td>0.384086</td>\n",
       "    </tr>\n",
       "  </tbody>\n",
       "</table>\n",
       "</div>"
      ],
      "text/plain": [
       "       linear Regression baseline  linear Regression avec PCA\n",
       "Model                                                        \n",
       "R2                       0.682078                    0.817865\n",
       "MAE                      0.147866                    0.153688\n",
       "RMSE                     0.507449                    0.384086"
      ]
     },
     "execution_count": 33,
     "metadata": {},
     "output_type": "execute_result"
    }
   ],
   "source": [
    "#linearRegression avec PCA \n",
    "lr=LinearRegression(fit_intercept=False, normalize=True)\n",
    "lr.fit(X_train_pca, y_train_pca['TotalGHGEmissions'])\n",
    "y_pred= lr.predict(X_test_pca)\n",
    "add_model(model7, 'linear Regression avec PCA', y_test_pca[:, 1], y_pred)"
   ]
  },
  {
   "cell_type": "code",
   "execution_count": 34,
   "metadata": {
    "colab": {
     "base_uri": "https://localhost:8080/",
     "height": 373
    },
    "id": "iM7AGEq4VX36",
    "outputId": "d7f38d4f-86af-4415-e909-176d737b8487"
   },
   "outputs": [
    {
     "name": "stdout",
     "output_type": "stream",
     "text": [
      "       linear Regression baseline  linear Regression avec PCA     LASSO\n",
      "Model                                                                  \n",
      "R2                       0.682078                    0.817865  0.994450\n",
      "MAE                      0.147866                    0.153688  0.019467\n",
      "RMSE                     0.507449                    0.384086  0.067046\n"
     ]
    },
    {
     "data": {
      "image/png": "[encoded data removed]",
      "text/plain": [
       "<Figure size 432x288 with 1 Axes>"
      ]
     },
     "metadata": {
      "needs_background": "light"
     },
     "output_type": "display_data"
    }
   ],
   "source": [
    "#Lasso \n",
    "params= {'alpha':[1, 10, 0.1, 0.001]}\n",
    "\n",
    "GS = GridSearchCV(Lasso(), param_grid=params, cv=5, scoring='neg_mean_absolute_error')\n",
    "GS.fit(X_train, y_train['SiteEnergyUse(kBtu)'])\n",
    "model_scores=[]\n",
    "model_scores.append(\n",
    "      {\n",
    "      'model':'LinearRegression',\n",
    "      'best_score': GS.best_score_,\n",
    "      'best_param':GS.best_params_,\n",
    "       })\n",
    "lr= GS.best_estimator_\n",
    "y_pred= lr.predict(X_test)\n",
    "##\n",
    "add_model(model7, 'LASSO', y_test[:, 1], y_pred)\n",
    "print(model7)\n",
    "plot(model7, 'SiteEnergyUse(kBtu)')"
   ]
  },
  {
   "cell_type": "markdown",
   "metadata": {},
   "source": [
    "Le modèle Lasso semble étre le meilleur à prédire la consommation totale d'énergie. "
   ]
  }
 ],
 "metadata": {
  "colab": {
   "collapsed_sections": [
    "wz9040JGrMEj",
    "qAqWt2QxKUgc",
    "p2olZQW4rsZ_",
    "ObuNVw8WxVoS",
    "hgblMNVDVRRH"
   ],
   "name": "modélisation.ipynb",
   "provenance": []
  },
  "kernelspec": {
   "display_name": "Python 3",
   "language": "python",
   "name": "python3"
  },
  "language_info": {
   "codemirror_mode": {
    "name": "ipython",
    "version": 3
   },
   "file_extension": ".py",
   "mimetype": "text/x-python",
   "name": "python",
   "nbconvert_exporter": "python",
   "pygments_lexer": "ipython3",
   "version": "3.8.8"
  }
 },
 "nbformat": 4,
 "nbformat_minor": 1
}
